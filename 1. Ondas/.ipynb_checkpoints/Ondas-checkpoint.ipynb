{
 "cells": [
  {
   "cell_type": "code",
   "execution_count": 2,
   "id": "830570bc",
   "metadata": {},
   "outputs": [],
   "source": [
    "from IPython.display import clear_output as clear\n",
    "from ipywidgets import interactive\n",
    "import ipywidgets as widgets\n",
    "import numpy as np\n",
    "import matplotlib.pyplot as plt\n",
    "import matplotlib.patches as patches\n",
    "\n",
    "\n",
    "def Resorte():\n",
    "    lista_tiempo = []\n",
    "    lista_desp = []\n",
    "    lista_vel = []\n",
    "    lista_ace = []\n",
    "    print(\"Se recomienda limpiar las gráficas antes de generar una nueva simulación\")\n",
    "\n",
    "    \n",
    "    def GraficoInteractivoResorte(constante, masa, tiempo):\n",
    "        tiempo = tiempo / 1000\n",
    "\n",
    "        w = np.sqrt (constante / masa)\n",
    "        A = 5\n",
    "\n",
    "        desplazamiento = A * np.cos (w * tiempo) \n",
    "\n",
    "        lista_desp.append (desplazamiento)\n",
    "        \n",
    "        \n",
    "        velocidad = -A*w*np.sin(w*tiempo)\n",
    "        \n",
    "        lista_vel.append (velocidad)\n",
    "    \n",
    "    \n",
    "        aceleración= -A *w**2 * np.cos (w * tiempo)\n",
    "        lista_ace.append (aceleración)\n",
    "    \n",
    "        \n",
    "        lista_tiempo.append (tiempo)\n",
    "        \n",
    "    \n",
    "        fig, ((ax1, ax2), (ax3, ax4)) = plt.subplots(2, 2, dpi=120,figsize=(7,7), sharey= False)\n",
    "        \n",
    "\n",
    "        # Pared\n",
    "        ax1.add_patch(\n",
    "            patches.Rectangle((-6, -1), 6, 2,\n",
    "                facecolor = 'gray',fill=True) )\n",
    "        # Resorte\n",
    "        deltaX = desplazamiento + 7\n",
    "        x = np.linspace (0, deltaX,100)\n",
    "        y = np.sin(20*np.pi*x/deltaX)  \n",
    "        \n",
    "        # Caja\n",
    "        ax1.add_patch(\n",
    "            patches.Rectangle((deltaX, -0.15), 2, 0.3,\n",
    "                facecolor = 'red',fill=True) )\n",
    "        \n",
    "        ax1.set_xlim([-6, 23])\n",
    "        ax1.set_ylim([-3, 2])\n",
    "        ax1.plot (x,y)\n",
    "        ax1.set_title('MAS en un Resorte')\n",
    "        ax1.axis (\"off\")\n",
    "        \n",
    "        \n",
    "        ax2.set_xlim([0, 20])\n",
    "        ax2.set_ylim([-A-0.5, A+0.5])\n",
    "        ax2.plot(lista_tiempo, lista_desp)\n",
    "        ax2.set_title('Desplazamiento vs Tiempo')\n",
    "        \n",
    "        \n",
    "        ax3.set_xlim([0, 20])\n",
    "        ax3.set_ylim([-A*w-0.5, A*w+0.5])\n",
    "        ax3.plot(lista_tiempo, lista_vel)\n",
    "        ax3.set_title('Velocidad vs Tiempo')\n",
    "        \n",
    "        \n",
    "        ax4.set_xlim([0, 20])\n",
    "        ax4.set_ylim([-A*w**2-0.5, A*w**2+0.5])\n",
    "        ax4.plot(lista_tiempo, lista_ace)\n",
    "        ax4.set_title('Aceleración vs Tiempo')\n",
    "        \n",
    "\n",
    "        plt.show()  \n",
    "        return\n",
    "    \n",
    "    constanteEtiqueta = widgets.Label (value=\"Constante elástica $(N/m)$:\")\n",
    "    constanteSlider = widgets.FloatSlider(min=10, max=30, step=1, value=20)\n",
    "    cajaConstante = widgets.HBox([constanteEtiqueta, constanteSlider])\n",
    "\n",
    "    masaEtiqueta = widgets.Label (value=\"Masa $(kg)$:\")\n",
    "    masaSlider = widgets.FloatSlider(min=10, max=30, step=0.1, value=0)\n",
    "    cajaMasa = widgets.HBox([masaEtiqueta, masaSlider])\n",
    "\n",
    "    play = widgets.Play(value=0, min=0, max=20000, step=50, disabled=False)\n",
    "    tieEtiqueta = widgets.Label (value=\"Tiempo $(ms)$:\")\n",
    "    tieSlider = widgets.FloatSlider(min=0, max=20000,)\n",
    "    widgets.jslink((play, 'value'), (tieSlider, 'value'))\n",
    "    cajaTiempo = widgets.HBox([tieEtiqueta, tieSlider])\n",
    "\n",
    "    salida = widgets.interactive_output(GraficoInteractivoResorte, {'constante': constanteSlider,\n",
    "                                                                     'masa':masaSlider,\n",
    "                                                                     'tiempo':tieSlider,})\n",
    "    button = widgets.Button(description=\"Limpiar\")\n",
    "    output = widgets.Output()\n",
    "    \n",
    "    display(button, cajaConstante, cajaMasa, play, salida)\n",
    "    \n",
    "    def on_button_clicked(b):\n",
    "            clear()\n",
    "            Resorte ()\n",
    "\n",
    "\n",
    "\n",
    "    button.on_click(on_button_clicked)\n",
    "\n",
    "    \n",
    "\n",
    "def Péndulo ():\n",
    "    lista_desp = []\n",
    "    lista_tiempo = []\n",
    "    lista_vel = []\n",
    "    lista_ace = []\n",
    "    print(\"Se recomienda limpiar las gráficas antes de generar una nueva simulación\")\n",
    "    \n",
    "    def GraficoInteractivoPéndulo(frecuencia, tiempo):\n",
    "\n",
    "        tiempo = tiempo / 1000\n",
    "\n",
    "        w = frecuencia * 2 * np.pi\n",
    "        \n",
    "        A = 2\n",
    "\n",
    "        desplazamiento = A * np.cos (w * tiempo) \n",
    "\n",
    "        lista_desp.append (desplazamiento)\n",
    "    \n",
    "    \n",
    "        velocidad = -A*w*np.sin(w*tiempo)\n",
    "        \n",
    "        lista_vel.append (velocidad)\n",
    "    \n",
    "    \n",
    "        aceleración= -A *w**2 * np.cos (w * tiempo)\n",
    "        lista_ace.append (aceleración)    \n",
    "    \n",
    "    \n",
    "        lista_tiempo.append (tiempo)\n",
    "    \n",
    "    \n",
    "        fig, ((ax1, ax2), (ax3, ax4)) = plt.subplots(2, 2, dpi=120,figsize=(7,7), sharey= False)\n",
    "\n",
    "        # Pared\n",
    "        ax1.add_patch(\n",
    "            patches.Rectangle((-3, 1), 6, 0.5,\n",
    "                facecolor = 'gray',fill=True) )\n",
    "\n",
    "\n",
    "        # Cuerda\n",
    "        deltaY= np.sqrt (3**2-desplazamiento**2)\n",
    "        x = np.linspace (0, desplazamiento,1000)\n",
    "        y = np.linspace (1, -deltaY,1000)  \n",
    "\n",
    "        # Masa \n",
    "        draw_circle = plt.Circle((desplazamiento, -deltaY), 0.3)\n",
    "        ax1.add_artist(draw_circle)\n",
    "\n",
    "\n",
    "        ax1.set_xlim([-3, 3])\n",
    "        ax1.set_ylim([-4, 2])\n",
    "        ax1.plot (x,y)\n",
    "        ax1.set_title('MAS en un Péndulo')\n",
    "        ax1.axis (\"off\")\n",
    "        \n",
    "        \n",
    "        ax2.set_xlim([0, 5])\n",
    "        ax2.set_ylim([-A-0.5, A+0.5])\n",
    "        ax2.plot(lista_tiempo, lista_desp)\n",
    "        ax2.set_title('Desplazamiento vs Tiempo')\n",
    "        \n",
    "        \n",
    "        ax3.set_xlim([0, 5])\n",
    "        ax3.set_ylim([-A*w-0.5, A*w+0.5])\n",
    "        ax3.plot(lista_tiempo, lista_vel)\n",
    "        ax3.set_title('Velocidad vs Tiempo')\n",
    "        \n",
    "        \n",
    "        ax4.set_xlim([0, 5])\n",
    "        ax4.set_ylim([-A*w**2-0.5, A*w**2+0.5])\n",
    "        ax4.plot(lista_tiempo, lista_ace)\n",
    "        ax4.set_title('Aceleración vs Tiempo')\n",
    "        plt.show()  \n",
    "        return\n",
    "    \n",
    "    frecuenciaEtiqueta = widgets.Label (value=\"Frecuencia $(Hz)$:\")\n",
    "    frecuenciaSlider = widgets.FloatSlider(min=0.1, max=1, step=0.1, value=0.5)\n",
    "    cajaFrecuencia = widgets.HBox([frecuenciaEtiqueta, frecuenciaSlider])\n",
    "\n",
    "    play = widgets.Play(value=0, min=0, max=5000, step=10, disabled=False)\n",
    "    tieEtiqueta = widgets.Label (value=\"Tiempo $(ms)$:\")\n",
    "    tieSlider = widgets.FloatSlider(min=0, max=5000,)\n",
    "    widgets.jslink((play, 'value'), (tieSlider, 'value'))\n",
    "    cajaTiempo = widgets.HBox([tieEtiqueta, tieSlider])\n",
    "    \n",
    "    salida = widgets.interactive_output(GraficoInteractivoPéndulo, {'frecuencia': frecuenciaSlider,\n",
    "                                                                     'tiempo':tieSlider})\n",
    "    \n",
    "    button = widgets.Button(description=\"Limpiar\")\n",
    "    output = widgets.Output()\n",
    "    \n",
    "    display(button, cajaFrecuencia, play, salida)\n",
    "\n",
    "    def on_button_clicked(b):\n",
    "            clear()\n",
    "            Péndulo ()\n",
    "\n",
    "\n",
    "\n",
    "    button.on_click(on_button_clicked)\n",
    " \n",
    "\n",
    "\n",
    "def Pulso():\n",
    "    def GraficoInteractivoResorte(amplitud,tiempo, extremo):\n",
    "        \n",
    "        if extremo ==0:\n",
    "            tiempo = tiempo / 1000\n",
    "\n",
    "\n",
    "            fig, ax2 = plt.subplots(dpi=120,figsize=(7,7))\n",
    "\n",
    "            if tiempo <= 10:\n",
    "                #Cuerda\n",
    "                lista_tiempo_sin = np.linspace(-np.pi, 0,100)\n",
    "                lista_desp_sin = -amplitud*np.sin(lista_tiempo_sin)\n",
    "\n",
    "                lista_tiempo_rec1 = np.linspace(0,10,2)\n",
    "                lista_desp_rec1 = np.zeros(2)\n",
    "\n",
    "                lista_tiempo_rec2 = np.linspace(-10,-np.pi,2)\n",
    "                lista_desp_rec2 = np.zeros(2)  \n",
    "\n",
    "                lista_tiempo = np.concatenate((lista_tiempo_rec2, lista_tiempo_sin, lista_tiempo_rec1))\n",
    "                lista_desp = np.concatenate((lista_desp_rec2, lista_desp_sin, lista_desp_rec1))      \n",
    "\n",
    "\n",
    "                ax2.axis (\"off\")\n",
    "                ax2.set_xlim([-1-tiempo, 11-tiempo])\n",
    "                ax2.set_ylim([-5-0.5, 5+0.5])\n",
    "                ax2.plot(lista_tiempo, lista_desp, color = \"blue\")\n",
    "                ax2.set_title('Movimiento de una cuerda con un extremo fijo')\n",
    "\n",
    "\n",
    "                # Pivote\n",
    "                t= np.linspace(0, 2*np.pi, 100)\n",
    "                ax2.fill( 11-tiempo+1*np.cos(t) , 0.5*np.sin(t), color = \"blue\")\n",
    "\n",
    "\n",
    "                if tiempo*10 <= 32:\n",
    "                    # Caja\n",
    "                    ax2.add_patch(\n",
    "                        patches.Rectangle((-1-tiempo, amplitud*np.sin(tiempo)-2), 1, 4, color = \"blue\", fill=True) )\n",
    "\n",
    "                else:\n",
    "                    # Caja\n",
    "                    ax2.add_patch(\n",
    "                        patches.Rectangle((-1-tiempo, -2), 1, 4, color = \"blue\", fill=True) )\n",
    "\n",
    "\n",
    "\n",
    "\n",
    "            elif 10<tiempo<=10+np.pi/2:\n",
    "                #Cuerda\n",
    "                lista_tiempo_sin = np.linspace(-np.pi+1+np.sin(tiempo-10), 0,100)\n",
    "                lista_desp_sin = -amplitud*np.sin(tiempo+np.pi/2-10)*np.sin(lista_tiempo_sin*(1+np.sin(tiempo-10)))\n",
    "\n",
    "                lista_tiempo_rec2 = np.linspace(-10,-np.pi+tiempo-10,2)\n",
    "                lista_desp_rec2 = np.zeros(2)\n",
    "\n",
    "                lista_tiempo = np.concatenate((lista_tiempo_rec2, lista_tiempo_sin))\n",
    "                lista_desp = np.concatenate((lista_desp_rec2, lista_desp_sin))\n",
    "\n",
    "                ax2.axis (\"off\")\n",
    "                ax2.set_xlim([-11, 1])\n",
    "                ax2.set_ylim([-5-0.5, 5+0.5])\n",
    "                ax2.plot(lista_tiempo, lista_desp, color = \"blue\")\n",
    "                ax2.set_title('Movimiento de una cuerda con un extremo fijo')\n",
    "\n",
    "\n",
    "                # Pivote\n",
    "                t= np.linspace(0, 2*np.pi, 100)\n",
    "                ax2.fill(1+1*np.cos(t) , 0.5*np.sin(t), color = \"blue\")\n",
    "\n",
    "                # Caja\n",
    "                ax2.add_patch(\n",
    "                    patches.Rectangle((-11, -2), 1, 4, color = \"blue\", fill=True) )\n",
    "\n",
    "\n",
    "\n",
    "            elif 10+np.pi/2<tiempo<=10+np.pi:\n",
    "                #Cuerda\n",
    "                lista_tiempo_sin = np.linspace(-np.pi+1+np.sin(tiempo-10), 0,100)\n",
    "                lista_desp_sin = -amplitud*np.sin(tiempo+np.pi/2-10)*np.sin(lista_tiempo_sin*(1+np.sin(tiempo-10)))\n",
    "\n",
    "                lista_tiempo_rec2 = np.linspace(-10,-np.pi-tiempo+10+np.pi,2)\n",
    "                lista_desp_rec2 = np.zeros(2)\n",
    "\n",
    "                lista_tiempo = np.concatenate((lista_tiempo_rec2, lista_tiempo_sin))\n",
    "                lista_desp = np.concatenate((lista_desp_rec2, lista_desp_sin))\n",
    "\n",
    "                ax2.axis (\"off\")\n",
    "                ax2.set_xlim([-11, 1])\n",
    "                ax2.set_ylim([-5-0.5, 5+0.5])\n",
    "                ax2.plot(lista_tiempo, lista_desp, color = \"blue\")\n",
    "                ax2.set_title('Movimiento de una cuerda con un extremo fijo')\n",
    "\n",
    "\n",
    "                # Pivote\n",
    "                t= np.linspace(0, 2*np.pi, 100)\n",
    "                ax2.fill(1+1*np.cos(t) , 0.5*np.sin(t), color = \"blue\")\n",
    "\n",
    "                # Caja\n",
    "                ax2.add_patch(\n",
    "                    patches.Rectangle((-11, -2), 1, 4, color = \"blue\", fill=True) )\n",
    "\n",
    "\n",
    "            else:\n",
    "                #Cuerda\n",
    "                lista_tiempo_sin = np.linspace(-np.pi, 0,100)\n",
    "                lista_desp_sin = amplitud*np.sin(lista_tiempo_sin)\n",
    "\n",
    "                lista_tiempo_rec1 = np.linspace(0,15,2)\n",
    "                lista_desp_rec1 = np.zeros(2)\n",
    "\n",
    "                lista_tiempo_rec2 = np.linspace(-15,-np.pi,2)\n",
    "                lista_desp_rec2 = np.zeros(2)  \n",
    "\n",
    "                lista_tiempo = np.concatenate((lista_tiempo_rec2, lista_tiempo_sin, lista_tiempo_rec1))\n",
    "                lista_desp = np.concatenate((lista_desp_rec2, lista_desp_sin, lista_desp_rec1))      \n",
    "\n",
    "\n",
    "                ax2.axis (\"off\")\n",
    "                ax2.set_xlim([-21-np.pi+tiempo, -9-np.pi+tiempo])\n",
    "                ax2.set_ylim([-5-0.5, 5+0.5])\n",
    "                ax2.plot(lista_tiempo, lista_desp, color = \"blue\")\n",
    "                ax2.set_title('Movimiento de una cuerda con un extremo fijo')\n",
    "\n",
    "\n",
    "                # Pivote\n",
    "                t= np.linspace(0, 2*np.pi, 100)\n",
    "                ax2.fill( -9-np.pi+tiempo+1*np.cos(t) , 0.5*np.sin(t), color = \"blue\")\n",
    "\n",
    "\n",
    "                #Caja\n",
    "                ax2.add_patch(\n",
    "                    patches.Rectangle((-21-np.pi+tiempo, -2), 1, 4, color = \"blue\", fill=True) )\n",
    "                \n",
    "        else:\n",
    "            tiempo = tiempo / 1000\n",
    "\n",
    "\n",
    "            fig, ax2 = plt.subplots(dpi=120,figsize=(7,7))\n",
    "\n",
    "            if tiempo <= 10:\n",
    "                #Cuerda\n",
    "                lista_tiempo_sin = np.linspace(-np.pi, 0,100)\n",
    "                lista_desp_sin = -amplitud*np.sin(lista_tiempo_sin)\n",
    "\n",
    "                lista_tiempo_rec1 = np.linspace(0,10,2)\n",
    "                lista_desp_rec1 = np.zeros(2)\n",
    "\n",
    "                lista_tiempo_rec2 = np.linspace(-15,-np.pi,2)\n",
    "                lista_desp_rec2 = np.zeros(2)  \n",
    "\n",
    "                lista_tiempo = np.concatenate((lista_tiempo_rec2, lista_tiempo_sin, lista_tiempo_rec1))\n",
    "                lista_desp = np.concatenate((lista_desp_rec2, lista_desp_sin, lista_desp_rec1))      \n",
    "\n",
    "\n",
    "                ax2.axis (\"off\")\n",
    "                ax2.set_xlim([-1-tiempo, 11-tiempo])\n",
    "                ax2.set_ylim([-5-0.5, 5+0.5])\n",
    "                ax2.plot(lista_tiempo, lista_desp, color = \"blue\")\n",
    "                ax2.set_title('Movimiento de una cuerda con un extremo libre')\n",
    "\n",
    "\n",
    "                # Caja 2\n",
    "                ax2.add_patch(\n",
    "                    patches.Rectangle((10-tiempo, -2), 1, 4, color = \"blue\", fill=True) )\n",
    "\n",
    "\n",
    "                if tiempo*10 <= 32:\n",
    "                    # Caja 1\n",
    "                    ax2.add_patch(\n",
    "                        patches.Rectangle((-1-tiempo, amplitud*np.sin(tiempo)-2), 1, 4, color = \"blue\", fill=True) )\n",
    "\n",
    "                else:\n",
    "                    # Caja 1\n",
    "                    ax2.add_patch(\n",
    "                        patches.Rectangle((-1-tiempo, -2), 1, 4, color = \"blue\", fill=True) )\n",
    "                    \n",
    "            \n",
    "            \n",
    "            elif 10<tiempo <= 10+np.pi/2:\n",
    "                #Cuerda\n",
    "                lista_tiempo_sin = np.linspace(-np.pi, 0,100)\n",
    "                lista_desp_sin = -amplitud*np.sin(lista_tiempo_sin)\n",
    "\n",
    "                lista_tiempo_rec1 = np.linspace(0,10,2)\n",
    "                lista_desp_rec1 = np.zeros(2)\n",
    "\n",
    "                lista_tiempo_rec2 = np.linspace(-15,-np.pi,2)\n",
    "                lista_desp_rec2 = np.zeros(2)  \n",
    "\n",
    "                lista_tiempo = np.concatenate((lista_tiempo_rec2, lista_tiempo_sin, lista_tiempo_rec1))\n",
    "                lista_desp = np.concatenate((lista_desp_rec2, lista_desp_sin, lista_desp_rec1))      \n",
    "\n",
    "\n",
    "                ax2.axis (\"off\")\n",
    "                ax2.set_xlim([-1-tiempo, 11-tiempo])\n",
    "                ax2.set_ylim([-5-0.5, 5+0.5])\n",
    "                ax2.plot(lista_tiempo, lista_desp, color = \"blue\")\n",
    "                ax2.set_title('Movimiento de una cuerda con un extremo libre')\n",
    "\n",
    "\n",
    "                # Caja 2\n",
    "                ax2.add_patch(\n",
    "                    patches.Rectangle((10-tiempo, amplitud*np.sin(tiempo-10)-2), 1, 4, color = \"blue\", fill=True) )\n",
    "\n",
    "\n",
    "                # Caja 1\n",
    "                ax2.add_patch(\n",
    "                    patches.Rectangle((-1-tiempo, -2), 1, 4, color = \"blue\", fill=True) )\n",
    "                \n",
    "        \n",
    "            \n",
    "            elif 10+np.pi/2<tiempo <= 10+np.pi:\n",
    "                #Cuerda\n",
    "                lista_tiempo_sin = np.linspace(-np.pi, 0,100)\n",
    "                lista_desp_sin = -amplitud*np.sin(lista_tiempo_sin)\n",
    "\n",
    "                lista_tiempo_rec1 = np.linspace(0,10,2)\n",
    "                lista_desp_rec1 = np.zeros(2)\n",
    "\n",
    "                lista_tiempo_rec2 = np.linspace(-15,-np.pi,2)\n",
    "                lista_desp_rec2 = np.zeros(2)  \n",
    "\n",
    "                lista_tiempo = np.concatenate((lista_tiempo_rec2, lista_tiempo_sin, lista_tiempo_rec1))\n",
    "                lista_desp = np.concatenate((lista_desp_rec2, lista_desp_sin, lista_desp_rec1))      \n",
    "\n",
    "\n",
    "                ax2.axis (\"off\")\n",
    "                ax2.set_xlim([tiempo-np.pi-21, tiempo-np.pi-9])\n",
    "                ax2.set_ylim([-5-0.5, 5+0.5])\n",
    "                ax2.plot(lista_tiempo, lista_desp, color = \"blue\")\n",
    "                ax2.set_title('Movimiento de una cuerda con un extremo libre')\n",
    "\n",
    "\n",
    "                # Caja 2\n",
    "                ax2.add_patch(\n",
    "                    patches.Rectangle((tiempo-np.pi-10, amplitud*np.sin(tiempo-10)-2), 1, 4, color = \"blue\", fill=True) )\n",
    "\n",
    "\n",
    "                # Caja 1\n",
    "                ax2.add_patch(\n",
    "                    patches.Rectangle((tiempo-np.pi-21, -2), 1, 4, color = \"blue\", fill=True) )\n",
    "\n",
    "\n",
    "            else:\n",
    "                #Cuerda\n",
    "                lista_tiempo_sin = np.linspace(-np.pi, 0,100)\n",
    "                lista_desp_sin = -amplitud*np.sin(lista_tiempo_sin)\n",
    "\n",
    "                lista_tiempo_rec1 = np.linspace(0,15,2)\n",
    "                lista_desp_rec1 = np.zeros(2)\n",
    "\n",
    "                lista_tiempo_rec2 = np.linspace(-15,-np.pi,2)\n",
    "                lista_desp_rec2 = np.zeros(2)  \n",
    "\n",
    "                lista_tiempo = np.concatenate((lista_tiempo_rec2, lista_tiempo_sin, lista_tiempo_rec1))\n",
    "                lista_desp = np.concatenate((lista_desp_rec2, lista_desp_sin, lista_desp_rec1))      \n",
    "\n",
    "\n",
    "                ax2.axis (\"off\")\n",
    "                ax2.set_xlim([tiempo-np.pi-21, tiempo-np.pi-9])\n",
    "                ax2.set_ylim([-5-0.5, 5+0.5])\n",
    "                ax2.plot(lista_tiempo, lista_desp, color = \"blue\")\n",
    "                ax2.set_title('Movimiento de una cuerda con un extremo libre')\n",
    "\n",
    "\n",
    "                # Caja 2\n",
    "                ax2.add_patch(\n",
    "                    patches.Rectangle((tiempo-np.pi-10, -2), 1, 4, color = \"blue\", fill=True) )\n",
    "\n",
    "\n",
    "                # Caja 1\n",
    "                ax2.add_patch(\n",
    "                    patches.Rectangle((tiempo-np.pi-21, -2), 1, 4, color = \"blue\", fill=True) )\n",
    "            \n",
    "        \n",
    "\n",
    "        plt.show()  \n",
    "        return\n",
    "    \n",
    "    amplitudEtiqueta = widgets.Label (value=\"Amplitud $(m)$:\")\n",
    "    amplitudSlider = widgets.FloatSlider(min=0.5, max=2, step=0.1, value=1)\n",
    "    cajaAmplitud = widgets.HBox([amplitudEtiqueta, amplitudSlider])\n",
    "    \n",
    "    play = widgets.Play(value=0, min=0, max=20000, step=100, disabled=False)\n",
    "    tieEtiqueta = widgets.Label (value=\"Tiempo $(ms)$:\")\n",
    "    tieSlider = widgets.FloatSlider(min=0, max=20000, step=100)\n",
    "    widgets.jslink((play, 'value'), (tieSlider, 'value'))\n",
    "    cajaTiempo = widgets.HBox([tieEtiqueta, tieSlider])\n",
    "    \n",
    "    extremo = widgets.Dropdown(\n",
    "        options=[('Fijo',0), ('Libre',1)],\n",
    "        value=0,\n",
    "        description='Extremo:',\n",
    "        disabled=False,\n",
    "    )\n",
    "\n",
    "    salida = widgets.interactive_output(GraficoInteractivoResorte, {'amplitud':amplitudSlider,\n",
    "                                                                    'tiempo':tieSlider,\n",
    "                                                                    'extremo':extremo})\n",
    "\n",
    "    \n",
    "    display(cajaAmplitud, cajaTiempo, play, extremo, salida)\n",
    "\n",
    "    \n",
    "    \n",
    "def Cuerda():\n",
    "    \n",
    "    def GraficoInteractivoResorte(amplitud,tiempo):\n",
    "        \n",
    "        tiempo = tiempo / 1000\n",
    "\n",
    "\n",
    "        fig, ax2 = plt.subplots(dpi=120,figsize=(7,7))\n",
    "                \n",
    "        \n",
    "        #Cuerda\n",
    "        lista_tiempo_sin = np.linspace(-50, 0,100)\n",
    "        lista_desp_sin = -amplitud*np.sin(lista_tiempo_sin)\n",
    "        \n",
    "        lista_tiempo_rec = np.linspace(0,20,2)\n",
    "        lista_desp_rec = np.zeros(2)\n",
    "        \n",
    "        lista_tiempo = np.concatenate((lista_tiempo_sin, lista_tiempo_rec))\n",
    "        lista_desp = np.concatenate((lista_desp_sin, lista_desp_rec))\n",
    "        \n",
    "        ax2.axis (\"off\")\n",
    "        ax2.set_xlim([-1-tiempo, 21-tiempo])\n",
    "        ax2.set_ylim([-5-0.5, 5+0.5])\n",
    "        ax2.plot(lista_tiempo, lista_desp)\n",
    "        ax2.set_title('Movimiento de una cuerda con un extremo fijo')\n",
    "        \n",
    "        \n",
    "        # Caja\n",
    "        ax2.add_patch(\n",
    "            patches.Rectangle((-1-tiempo, amplitud*np.sin(tiempo)-2), 1, 4, fill=True) )\n",
    "        \n",
    "        # Pivote\n",
    "        t= np.linspace(0, 2*np.pi, 100)\n",
    "        ax2.fill( 21-tiempo+1*np.cos(t) , 0.5*np.sin(t))\n",
    "        \n",
    "\n",
    "        plt.show()  \n",
    "        return\n",
    "    \n",
    "    amplitudEtiqueta = widgets.Label (value=\"Amplitud $(m)$:\")\n",
    "    amplitudSlider = widgets.FloatSlider(min=0.5, max=2, step=0.1, value=1)\n",
    "    cajaAmplitud = widgets.HBox([amplitudEtiqueta, amplitudSlider])\n",
    "    \n",
    "    play = widgets.Play(value=0, min=0, max=20000, step=100, disabled=False)\n",
    "    tieEtiqueta = widgets.Label (value=\"Tiempo $(ms)$:\")\n",
    "    tieSlider = widgets.FloatSlider(min=0, max=20000,)\n",
    "    widgets.jslink((play, 'value'), (tieSlider, 'value'))\n",
    "    cajaTiempo = widgets.HBox([tieEtiqueta, tieSlider])\n",
    "\n",
    "    salida = widgets.interactive_output(GraficoInteractivoResorte, {'amplitud':amplitudSlider,\n",
    "                                                                    'tiempo':tieSlider,})\n",
    "\n",
    "    \n",
    "    display(cajaAmplitud, play, salida)\n",
    "\n"
   ]
  },
  {
   "cell_type": "markdown",
   "id": "ef0720c1",
   "metadata": {},
   "source": [
    "# Movimiento Periódico u Oscilación"
   ]
  },
  {
   "cell_type": "markdown",
   "id": "91814a7b",
   "metadata": {},
   "source": [
    "Este tipo de movimiento es aquel que se repiten una y otra vez, como lo puede ser el péndulo de un reloj o el movimiento periódico en los pistones de un motor de combustión.\n",
    "\n",
    "![SegmentLocal](reloj.gif)\n",
    "\n",
    "El movimiento periodico puede ser expresado como:\n",
    "\n",
    "$$\n",
    "x=Acos(\\omega t + \\phi)\n",
    "$$\n",
    "\n",
    "Donde A es la amplitud o el valor máximo que obtendrá la expresión. El coseno da el comportamiento sinusoidal. Por su parte, $\\omega$ es la frecuencia angular, t es el tiempo específico en el que obtiene el valor de x. Finalmente $\\phi$ indica el desfase en la expresión.\n",
    "\n",
    "La velocidad en el movimiento puede ser descrita como:\n",
    "\n",
    "$$\n",
    "v=\\frac{dx}{dt}=-A\\omega sen(\\omega t + \\phi)\n",
    "$$\n",
    "\n",
    "Mientras que la aceleración es igual a:\n",
    "\n",
    "$$\n",
    "a=\\frac{dv}{dt}=\\frac{d^2x}{dt^2}=-A\\omega^2 cos(\\omega t + \\phi)\n",
    "$$\n"
   ]
  },
  {
   "cell_type": "markdown",
   "id": "f8f9b494",
   "metadata": {},
   "source": [
    "## Movimiento Armónico Simple (MAS)"
   ]
  },
  {
   "cell_type": "markdown",
   "id": "187b7781",
   "metadata": {},
   "source": [
    "El movimiento armónico simple es aquel en el cual se desprecian fuerzas que puedan afectar el movimiento periódico, lo cual involucra un movimiento perpetuo. Como se puede observar por medio del movimiento circular, como se observa en la siguiente imagen.\n",
    "\n",
    "![SegmentLocal](MAS-circular.gif)\n",
    "\n",
    "Donde la amplitud es igual al radio del circulo y la velocidad angular por el tiempo es igual al ángulo que se presenta en ese momento en el circulo. Este movimiento también puede ser descrito en un resorte como se muestra en la siguiente simulación, donde la velocidad angular se describe como:\n",
    "\n",
    "$$\n",
    "\\omega=\\sqrt{\\frac{k}{m}}\n",
    "$$\n",
    "\n",
    "Donde k representa la constante elástica del resorte y m el valor de la masa atada al resorte"
   ]
  },
  {
   "cell_type": "code",
   "execution_count": 3,
   "id": "a3418d05",
   "metadata": {},
   "outputs": [
    {
     "name": "stdout",
     "output_type": "stream",
     "text": [
      "Se recomienda limpiar las gráficas antes de generar una nueva simulación\n"
     ]
    },
    {
     "data": {
      "application/vnd.jupyter.widget-view+json": {
       "model_id": "5a8a336d227c427fa33b4487924a26d3",
       "version_major": 2,
       "version_minor": 0
      },
      "text/plain": [
       "Button(description='Limpiar', style=ButtonStyle())"
      ]
     },
     "metadata": {},
     "output_type": "display_data"
    },
    {
     "data": {
      "application/vnd.jupyter.widget-view+json": {
       "model_id": "1ef7f665d6dc4ca88024e47bb6c5e303",
       "version_major": 2,
       "version_minor": 0
      },
      "text/plain": [
       "HBox(children=(Label(value='Constante elástica $(N/m)$:'), FloatSlider(value=20.0, max=30.0, min=10.0, step=1.…"
      ]
     },
     "metadata": {},
     "output_type": "display_data"
    },
    {
     "data": {
      "application/vnd.jupyter.widget-view+json": {
       "model_id": "5e1ba426a3bc42b09c09bfa7f19ef1c9",
       "version_major": 2,
       "version_minor": 0
      },
      "text/plain": [
       "HBox(children=(Label(value='Masa $(kg)$:'), FloatSlider(value=10.0, max=30.0, min=10.0)))"
      ]
     },
     "metadata": {},
     "output_type": "display_data"
    },
    {
     "data": {
      "application/vnd.jupyter.widget-view+json": {
       "model_id": "58a53d62cf6d4380b4548f1bb4f3f513",
       "version_major": 2,
       "version_minor": 0
      },
      "text/plain": [
       "Play(value=0, max=20000, step=50)"
      ]
     },
     "metadata": {},
     "output_type": "display_data"
    },
    {
     "data": {
      "application/vnd.jupyter.widget-view+json": {
       "model_id": "407db40787ac4e02a9dde6aecfb1ade8",
       "version_major": 2,
       "version_minor": 0
      },
      "text/plain": [
       "Output()"
      ]
     },
     "metadata": {},
     "output_type": "display_data"
    }
   ],
   "source": [
    "Resorte ()"
   ]
  },
  {
   "cell_type": "markdown",
   "id": "fe01b44c",
   "metadata": {
    "scrolled": false
   },
   "source": [
    "A su vez, el MAS es también mostrado por medio de un péndulo como se muestra en la siguiente simulación"
   ]
  },
  {
   "cell_type": "code",
   "execution_count": 3,
   "id": "58272281",
   "metadata": {},
   "outputs": [
    {
     "name": "stdout",
     "output_type": "stream",
     "text": [
      "Se recomienda limpiar las gráficas antes de generar una nueva simulación\n"
     ]
    },
    {
     "data": {
      "application/vnd.jupyter.widget-view+json": {
       "model_id": "09a6bbea25494adfb56d74063a2ed5b1",
       "version_major": 2,
       "version_minor": 0
      },
      "text/plain": [
       "Button(description='Limpiar', style=ButtonStyle())"
      ]
     },
     "metadata": {},
     "output_type": "display_data"
    },
    {
     "data": {
      "application/vnd.jupyter.widget-view+json": {
       "model_id": "ee57639760484b8db6b6690dcb5e9ba4",
       "version_major": 2,
       "version_minor": 0
      },
      "text/plain": [
       "HBox(children=(Label(value='Frecuencia $(Hz)$:'), FloatSlider(value=0.5, max=1.0, min=0.1)))"
      ]
     },
     "metadata": {},
     "output_type": "display_data"
    },
    {
     "data": {
      "application/vnd.jupyter.widget-view+json": {
       "model_id": "88fcbe10004c43259edc79e689c23780",
       "version_major": 2,
       "version_minor": 0
      },
      "text/plain": [
       "Play(value=0, max=5000, step=10)"
      ]
     },
     "metadata": {},
     "output_type": "display_data"
    },
    {
     "data": {
      "application/vnd.jupyter.widget-view+json": {
       "model_id": "609640456bd14026aa4d94da1d225761",
       "version_major": 2,
       "version_minor": 0
      },
      "text/plain": [
       "Output()"
      ]
     },
     "metadata": {},
     "output_type": "display_data"
    }
   ],
   "source": [
    "Péndulo ()"
   ]
  },
  {
   "cell_type": "markdown",
   "id": "7d6d6f8d",
   "metadata": {},
   "source": [
    "## Ondas Mecánicas"
   ]
  },
  {
   "cell_type": "markdown",
   "id": "637be287",
   "metadata": {},
   "source": [
    "Las ondas mécanicas son perturbaciones que viajan a través de un medio, el cual puede ser un material como una cuerda o una sustancia como el agua.\n",
    "\n",
    "![SegmentLocal](onda-agua.jpg)\n",
    "\n",
    "Al analizar un pulso en una cuerda, al llegar este al extremo se reflejara y su comportamiento variará conforme a si dicho extremo esta fijo o no. Como se puede observar en la siguiente simulación"
   ]
  },
  {
   "cell_type": "code",
   "execution_count": 4,
   "id": "cd46ec19",
   "metadata": {},
   "outputs": [
    {
     "data": {
      "application/vnd.jupyter.widget-view+json": {
       "model_id": "d4d6750dec724833b27c05bc2674d502",
       "version_major": 2,
       "version_minor": 0
      },
      "text/plain": [
       "HBox(children=(Label(value='Amplitud $(m)$:'), FloatSlider(value=1.0, max=2.0, min=0.5)))"
      ]
     },
     "metadata": {},
     "output_type": "display_data"
    },
    {
     "data": {
      "application/vnd.jupyter.widget-view+json": {
       "model_id": "87dfec89963147c4b2671f3767b00bdb",
       "version_major": 2,
       "version_minor": 0
      },
      "text/plain": [
       "HBox(children=(Label(value='Tiempo $(ms)$:'), FloatSlider(value=0.0, max=20000.0, step=100.0)))"
      ]
     },
     "metadata": {},
     "output_type": "display_data"
    },
    {
     "data": {
      "application/vnd.jupyter.widget-view+json": {
       "model_id": "e32fcfb2ba2f4c7e9cfc8414015ede64",
       "version_major": 2,
       "version_minor": 0
      },
      "text/plain": [
       "Play(value=0, max=20000, step=100)"
      ]
     },
     "metadata": {},
     "output_type": "display_data"
    },
    {
     "data": {
      "application/vnd.jupyter.widget-view+json": {
       "model_id": "3e8769a3267e454a91afb76927128d5a",
       "version_major": 2,
       "version_minor": 0
      },
      "text/plain": [
       "Dropdown(description='Extremo:', options=(('Fijo', 0), ('Libre', 1)), value=0)"
      ]
     },
     "metadata": {},
     "output_type": "display_data"
    },
    {
     "data": {
      "application/vnd.jupyter.widget-view+json": {
       "model_id": "87f4dcd45dcd4491b80e4079f2b211ba",
       "version_major": 2,
       "version_minor": 0
      },
      "text/plain": [
       "Output()"
      ]
     },
     "metadata": {},
     "output_type": "display_data"
    }
   ],
   "source": [
    "Pulso()"
   ]
  },
  {
   "cell_type": "markdown",
   "id": "4bd954c1",
   "metadata": {},
   "source": [
    "Por otra parte al mantener el movimiento en uno de los extremos de la cuerda, se obtiene la siguiente simulación"
   ]
  },
  {
   "cell_type": "code",
   "execution_count": 5,
   "id": "dfa3e451",
   "metadata": {},
   "outputs": [
    {
     "data": {
      "application/vnd.jupyter.widget-view+json": {
       "model_id": "86869e5ad7ab400483d5cca58cfd9547",
       "version_major": 2,
       "version_minor": 0
      },
      "text/plain": [
       "HBox(children=(Label(value='Amplitud $(m)$:'), FloatSlider(value=1.0, max=2.0, min=0.5)))"
      ]
     },
     "metadata": {},
     "output_type": "display_data"
    },
    {
     "data": {
      "application/vnd.jupyter.widget-view+json": {
       "model_id": "d5059825a3194697a99ceb48f98b9718",
       "version_major": 2,
       "version_minor": 0
      },
      "text/plain": [
       "Play(value=0, max=20000, step=100)"
      ]
     },
     "metadata": {},
     "output_type": "display_data"
    },
    {
     "data": {
      "application/vnd.jupyter.widget-view+json": {
       "model_id": "87837b4678d24e90a02c61bccc20349d",
       "version_major": 2,
       "version_minor": 0
      },
      "text/plain": [
       "Output()"
      ]
     },
     "metadata": {},
     "output_type": "display_data"
    }
   ],
   "source": [
    "Cuerda()"
   ]
  }
 ],
 "metadata": {
  "interpreter": {
   "hash": "5211cab7d2e1887300323a34d1b137b52029f442040bc6f886ee6c66eb6f3ecd"
  },
  "kernelspec": {
   "display_name": "Python 3",
   "language": "python",
   "name": "python3"
  },
  "language_info": {
   "codemirror_mode": {
    "name": "ipython",
    "version": 3
   },
   "file_extension": ".py",
   "mimetype": "text/x-python",
   "name": "python",
   "nbconvert_exporter": "python",
   "pygments_lexer": "ipython3",
   "version": "3.8.8"
  }
 },
 "nbformat": 4,
 "nbformat_minor": 5
}
